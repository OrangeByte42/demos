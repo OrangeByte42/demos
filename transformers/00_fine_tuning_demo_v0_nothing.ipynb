{
 "cells": [
  {
   "cell_type": "code",
   "execution_count": 1,
   "id": "abbd6f08",
   "metadata": {},
   "outputs": [
    {
     "name": "stdout",
     "output_type": "stream",
     "text": [
      "env: ALL_PROXY=http://127.0.0.1:7890\n",
      "env: HTTP_PROXY=http://127.0.0.1:7890\n",
      "env: HTTPS_PROXY=http://127.0.0.1:7890\n"
     ]
    }
   ],
   "source": [
    "%env ALL_PROXY=http://127.0.0.1:7890\n",
    "%env HTTP_PROXY=http://127.0.0.1:7890\n",
    "%env HTTPS_PROXY=http://127.0.0.1:7890"
   ]
  },
  {
   "cell_type": "code",
   "execution_count": 2,
   "id": "12287988",
   "metadata": {},
   "outputs": [
    {
     "name": "stdout",
     "output_type": "stream",
     "text": [
      "env: HF_HUB_CACHE=./data/hf_cache\n"
     ]
    }
   ],
   "source": [
    "%env HF_HUB_CACHE=./data/hf_cache"
   ]
  },
  {
   "cell_type": "markdown",
   "id": "f0027184",
   "metadata": {},
   "source": [
    "# Text classification example"
   ]
  },
  {
   "cell_type": "markdown",
   "id": "ea7dfeee",
   "metadata": {},
   "source": [
    "## Step 01. import related packages"
   ]
  },
  {
   "cell_type": "code",
   "execution_count": 3,
   "id": "cd1148cc",
   "metadata": {},
   "outputs": [
    {
     "name": "stderr",
     "output_type": "stream",
     "text": [
      "/home/ubuntu/MyFiles/GitHub/demos/transformers/.venv/lib/python3.12/site-packages/tqdm/auto.py:21: TqdmWarning: IProgress not found. Please update jupyter and ipywidgets. See https://ipywidgets.readthedocs.io/en/stable/user_install.html\n",
      "  from .autonotebook import tqdm as notebook_tqdm\n"
     ]
    }
   ],
   "source": [
    "from transformers import AutoTokenizer, AutoModelForSequenceClassification"
   ]
  },
  {
   "cell_type": "markdown",
   "id": "cd1884fb",
   "metadata": {},
   "source": [
    "## Step 02. Load data"
   ]
  },
  {
   "cell_type": "code",
   "execution_count": 4,
   "id": "1f89c7da",
   "metadata": {},
   "outputs": [
    {
     "data": {
      "text/html": [
       "<div>\n",
       "<style scoped>\n",
       "    .dataframe tbody tr th:only-of-type {\n",
       "        vertical-align: middle;\n",
       "    }\n",
       "\n",
       "    .dataframe tbody tr th {\n",
       "        vertical-align: top;\n",
       "    }\n",
       "\n",
       "    .dataframe thead th {\n",
       "        text-align: right;\n",
       "    }\n",
       "</style>\n",
       "<table border=\"1\" class=\"dataframe\">\n",
       "  <thead>\n",
       "    <tr style=\"text-align: right;\">\n",
       "      <th></th>\n",
       "      <th>label</th>\n",
       "      <th>review</th>\n",
       "    </tr>\n",
       "  </thead>\n",
       "  <tbody>\n",
       "    <tr>\n",
       "      <th>0</th>\n",
       "      <td>1</td>\n",
       "      <td>距离川沙公路较近,但是公交指示不对,如果是\"蔡陆线\"的话,会非常麻烦.建议用别的路线.房间较...</td>\n",
       "    </tr>\n",
       "    <tr>\n",
       "      <th>1</th>\n",
       "      <td>1</td>\n",
       "      <td>商务大床房，房间很大，床有2M宽，整体感觉经济实惠不错!</td>\n",
       "    </tr>\n",
       "    <tr>\n",
       "      <th>2</th>\n",
       "      <td>1</td>\n",
       "      <td>早餐太差，无论去多少人，那边也不加食品的。酒店应该重视一下这个问题了。房间本身很好。</td>\n",
       "    </tr>\n",
       "    <tr>\n",
       "      <th>3</th>\n",
       "      <td>1</td>\n",
       "      <td>宾馆在小街道上，不大好找，但还好北京热心同胞很多~宾馆设施跟介绍的差不多，房间很小，确实挺小...</td>\n",
       "    </tr>\n",
       "    <tr>\n",
       "      <th>4</th>\n",
       "      <td>1</td>\n",
       "      <td>CBD中心,周围没什么店铺,说5星有点勉强.不知道为什么卫生间没有电吹风</td>\n",
       "    </tr>\n",
       "  </tbody>\n",
       "</table>\n",
       "</div>"
      ],
      "text/plain": [
       "   label                                             review\n",
       "0      1  距离川沙公路较近,但是公交指示不对,如果是\"蔡陆线\"的话,会非常麻烦.建议用别的路线.房间较...\n",
       "1      1                       商务大床房，房间很大，床有2M宽，整体感觉经济实惠不错!\n",
       "2      1         早餐太差，无论去多少人，那边也不加食品的。酒店应该重视一下这个问题了。房间本身很好。\n",
       "3      1  宾馆在小街道上，不大好找，但还好北京热心同胞很多~宾馆设施跟介绍的差不多，房间很小，确实挺小...\n",
       "4      1               CBD中心,周围没什么店铺,说5星有点勉强.不知道为什么卫生间没有电吹风"
      ]
     },
     "execution_count": 4,
     "metadata": {},
     "output_type": "execute_result"
    }
   ],
   "source": [
    "import os\n",
    "import pandas as pd\n",
    "\n",
    "data = pd.read_csv(os.path.join('.', 'data', 'train', 'ChnSentiCorp_htl_all.csv'))\n",
    "data.head()"
   ]
  },
  {
   "cell_type": "code",
   "execution_count": 5,
   "id": "fb9d1932",
   "metadata": {},
   "outputs": [
    {
     "data": {
      "text/plain": [
       "(7766, 2)"
      ]
     },
     "execution_count": 5,
     "metadata": {},
     "output_type": "execute_result"
    }
   ],
   "source": [
    "data.shape"
   ]
  },
  {
   "cell_type": "code",
   "execution_count": 6,
   "id": "46b17a78",
   "metadata": {},
   "outputs": [],
   "source": [
    "data = data.dropna()"
   ]
  },
  {
   "cell_type": "code",
   "execution_count": 7,
   "id": "4d8401b0",
   "metadata": {},
   "outputs": [
    {
     "data": {
      "text/plain": [
       "(7765, 2)"
      ]
     },
     "execution_count": 7,
     "metadata": {},
     "output_type": "execute_result"
    }
   ],
   "source": [
    "data.shape"
   ]
  },
  {
   "cell_type": "markdown",
   "id": "47f7cf51",
   "metadata": {},
   "source": [
    "## Step 03. Create dataset"
   ]
  },
  {
   "cell_type": "code",
   "execution_count": 10,
   "id": "dbc747c6",
   "metadata": {},
   "outputs": [],
   "source": [
    "from torch.utils.data import Dataset\n",
    "\n",
    "class MyDataset(Dataset):\n",
    "\n",
    "    def __init__(self) -> None:\n",
    "        super().__init__()\n",
    "        self.data = pd.read_csv(os.path.join('.', 'data', 'train', 'ChnSentiCorp_htl_all.csv'))\n",
    "        self.data = self.data.dropna()\n",
    "\n",
    "    def __getitem__(self, index):\n",
    "        return self.data.iloc[index]['review'], int(self.data.iloc[index]['label'])\n",
    "\n",
    "    def __len__(self):\n",
    "        return len(self.data)"
   ]
  },
  {
   "cell_type": "code",
   "execution_count": 11,
   "id": "748f7b8d",
   "metadata": {},
   "outputs": [
    {
     "name": "stdout",
     "output_type": "stream",
     "text": [
      "('距离川沙公路较近,但是公交指示不对,如果是\"蔡陆线\"的话,会非常麻烦.建议用别的路线.房间较为简单.', 1)\n",
      "('商务大床房，房间很大，床有2M宽，整体感觉经济实惠不错!', 1)\n",
      "('早餐太差，无论去多少人，那边也不加食品的。酒店应该重视一下这个问题了。房间本身很好。', 1)\n",
      "('宾馆在小街道上，不大好找，但还好北京热心同胞很多~宾馆设施跟介绍的差不多，房间很小，确实挺小，但加上低价位因素，还是无超所值的；环境不错，就在小胡同内，安静整洁，暖气好足-_-||。。。呵还有一大优势就是从宾馆出发，步行不到十分钟就可以到梅兰芳故居等等，京味小胡同，北海距离好近呢。总之，不错。推荐给节约消费的自助游朋友~比较划算，附近特色小吃很多~', 1)\n",
      "('CBD中心,周围没什么店铺,说5星有点勉强.不知道为什么卫生间没有电吹风', 1)\n"
     ]
    }
   ],
   "source": [
    "dataset = MyDataset()\n",
    "for i in range(5):\n",
    "    print(dataset[i])"
   ]
  },
  {
   "cell_type": "markdown",
   "id": "dc8645d4",
   "metadata": {},
   "source": [
    "## Step 04. Split the dataset"
   ]
  },
  {
   "cell_type": "code",
   "execution_count": 12,
   "id": "748a3801",
   "metadata": {},
   "outputs": [
    {
     "data": {
      "text/plain": [
       "(6212, 1553)"
      ]
     },
     "execution_count": 12,
     "metadata": {},
     "output_type": "execute_result"
    }
   ],
   "source": [
    "from torch.utils.data import random_split\n",
    "\n",
    "trainset, validset = random_split(dataset, lengths=[0.8, 0.2])\n",
    "len(trainset), len(validset)"
   ]
  },
  {
   "cell_type": "code",
   "execution_count": 14,
   "id": "b62fa109",
   "metadata": {},
   "outputs": [
    {
     "name": "stdout",
     "output_type": "stream",
     "text": [
      "('该酒店是我住过的最差的酒店，房间设施陈旧，一股霉味，床单被褥粘糊糊的，最可气的是服务员绝然会栽赃陷害住客，我在那一共住了4天，7月20日结帐的时候前台说客房服务员检查发现有个付费毛巾被开封，我经常出差，住过无数酒店，还第一次遇到这种事情，我住酒店从不动那些付费用品，房间就我一个人住，其间没有任何访客，谁会去打开那个破包装毛巾，开了一个小口又不用，可酒店服务员硬说是我打开的，一个酒店硬件设施差点没什么，服务质量差点也有情可原，但服务员不诚实，甚至栽赃顾客是有本质问题的，奉劝大家千万不要住这家酒店。', 0)\n",
      "('还没有说完，因为这次是一个人住，也不想去外面吃，就来到她的中餐厅叫怡和轩还是什么的我忘记了，主攻粤菜。也是给我感动的一塌糊涂！一个人能吃到什么？一个女孩子更加难点菜。她们的服务员把我给照顾的无微不至！细节就不说了，最后吃完还送我下楼到门口，其实我是房客，认得路的呀！呵呵！美眉漂亮不说，很温柔体贴，这都是上层的管理和制度的导向，我认为海悦确实是以人为本，全心全意的为客户着想，比起那些所谓的5星级不知道好多少倍！前两天在锦江住店我还生了一回气呢！物超所值！我下次还来海悦啊！谢谢！补充点评2007年9月13日：地方偏不是问题，她的门童会很负责的帮你叫车。反正我每次出去他都帮我准备好了。我喜欢这里的幽静！', 1)\n",
      "('周围的环境很好.在房间可以看到大海.普通间很一般.建议住豪华间.价格差不了多少.豪华间非常大.放三张大床也有够大的空间.非常不错.还可以看到大海', 1)\n",
      "('房间还是对得起这个价格，优点是这里的每间房间都是正对三亚湾的海。缺点就是酒店没泳池，住一晚还行，但作为度假，酒店设施硬件差了点，其实酒店就是一整幢大楼，没绿化没游泳池那种。还有个优点，酒店能免费接机，门口公交很多，去大东海，去亚龙湾都有公交车，这点很不错，节省了很多打车费用。补充点评2008年6月30日：对了，这个酒店的排水系统真的很差，马桶都冲不干净，让人心情因为马桶而变差。。。。希望改进。', 1)\n",
      "('出于不信邪的原因，入住了该酒店。之前查阅了携程上的点评，最近的点评已经有大半年时间了，一厢情愿的以为酒店设施有所改善。但是，去了只能用三个来形容，差！差！差！一次恐怖的入宿。电梯依旧吓人，房间一股霉味，一个灯是坏的！第二天就换到隔壁的一百假日去了。', 0)\n"
     ]
    }
   ],
   "source": [
    "for i in range(5):\n",
    "    print(trainset[i])"
   ]
  },
  {
   "cell_type": "markdown",
   "id": "ca68d4c7",
   "metadata": {},
   "source": [
    "## Step 05. Create dataloader"
   ]
  },
  {
   "cell_type": "code",
   "execution_count": 30,
   "id": "6c42e03d",
   "metadata": {},
   "outputs": [],
   "source": [
    "import torch\n",
    "\n",
    "tokenizer = AutoTokenizer.from_pretrained('hfl/rbt3')\n",
    "\n",
    "def collate_fn(batch):\n",
    "    texts, labels = [], []\n",
    "    for item in batch:\n",
    "        texts.append(item[0])\n",
    "        labels.append(item[1])\n",
    "    inputs = tokenizer(texts, max_length=128, padding='max_length', truncation=True, return_tensors='pt')\n",
    "    inputs['labels'] = torch.tensor(labels)\n",
    "    return inputs"
   ]
  },
  {
   "cell_type": "code",
   "execution_count": 31,
   "id": "464cf7e7",
   "metadata": {},
   "outputs": [],
   "source": [
    "from torch.utils.data import DataLoader\n",
    "\n",
    "train_loader = DataLoader(trainset, batch_size=32, shuffle=True, collate_fn=collate_fn)\n",
    "valid_loader = DataLoader(validset, batch_size=32, shuffle=False, collate_fn=collate_fn)"
   ]
  },
  {
   "cell_type": "code",
   "execution_count": 32,
   "id": "b20bec70",
   "metadata": {},
   "outputs": [
    {
     "data": {
      "text/plain": [
       "{'input_ids': tensor([[ 101, 1765, 4157,  ..., 1372, 2372,  102],\n",
       "        [ 101, 5018,  671,  ..., 6132, 3302,  102],\n",
       "        [ 101, 2791, 7313,  ...,    0,    0,    0],\n",
       "        ...,\n",
       "        [ 101, 2600,  860,  ...,  702, 3302,  102],\n",
       "        [ 101, 2791, 7313,  ...,    0,    0,    0],\n",
       "        [ 101,  100, 2345,  ...,    0,    0,    0]]), 'token_type_ids': tensor([[0, 0, 0,  ..., 0, 0, 0],\n",
       "        [0, 0, 0,  ..., 0, 0, 0],\n",
       "        [0, 0, 0,  ..., 0, 0, 0],\n",
       "        ...,\n",
       "        [0, 0, 0,  ..., 0, 0, 0],\n",
       "        [0, 0, 0,  ..., 0, 0, 0],\n",
       "        [0, 0, 0,  ..., 0, 0, 0]]), 'attention_mask': tensor([[1, 1, 1,  ..., 1, 1, 1],\n",
       "        [1, 1, 1,  ..., 1, 1, 1],\n",
       "        [1, 1, 1,  ..., 0, 0, 0],\n",
       "        ...,\n",
       "        [1, 1, 1,  ..., 1, 1, 1],\n",
       "        [1, 1, 1,  ..., 0, 0, 0],\n",
       "        [1, 1, 1,  ..., 0, 0, 0]]), 'labels': tensor([1, 0, 0, 1, 1, 1, 0, 0, 1, 1, 0, 0, 0, 1, 1, 1, 1, 1, 1, 1, 1, 1, 0, 0,\n",
       "        1, 1, 1, 1, 1, 1, 1, 0])}"
      ]
     },
     "execution_count": 32,
     "metadata": {},
     "output_type": "execute_result"
    }
   ],
   "source": [
    "next(enumerate(train_loader))[1]"
   ]
  },
  {
   "cell_type": "markdown",
   "id": "9daa1cef",
   "metadata": {},
   "source": [
    "## Step 06. Create the model and optimizer"
   ]
  },
  {
   "cell_type": "code",
   "execution_count": 33,
   "id": "f02f42e1",
   "metadata": {},
   "outputs": [
    {
     "name": "stderr",
     "output_type": "stream",
     "text": [
      "Some weights of BertForSequenceClassification were not initialized from the model checkpoint at hfl/rbt3 and are newly initialized: ['classifier.bias', 'classifier.weight']\n",
      "You should probably TRAIN this model on a down-stream task to be able to use it for predictions and inference.\n"
     ]
    }
   ],
   "source": [
    "from torch.optim import Adam\n",
    "\n",
    "model = AutoModelForSequenceClassification.from_pretrained('hfl/rbt3')\n",
    "\n",
    "if torch.cuda.is_available():\n",
    "    model = model.cuda()"
   ]
  },
  {
   "cell_type": "code",
   "execution_count": 34,
   "id": "7349dacb",
   "metadata": {},
   "outputs": [],
   "source": [
    "optimizer = Adam(model.parameters(), lr=2e-5)"
   ]
  },
  {
   "cell_type": "markdown",
   "id": "e14eb70c",
   "metadata": {},
   "source": [
    "## Step 07. Train and validate"
   ]
  },
  {
   "cell_type": "code",
   "execution_count": 35,
   "id": "428729c5",
   "metadata": {},
   "outputs": [],
   "source": [
    "def evaluate():\n",
    "    model.eval()\n",
    "    acc_num = 0\n",
    "    with torch.inference_mode():\n",
    "        for batch in valid_loader:\n",
    "            if torch.cuda.is_available():\n",
    "                batch = {k: v.cuda() for k, v in batch.items()}\n",
    "            output = model(**batch)\n",
    "            pred = torch.argmax(output.logits, dim=-1)\n",
    "            acc_num += (pred.long() == batch['labels'].long()).float().sum()\n",
    "    return acc_num / len(validset)\n",
    "\n",
    "\n",
    "def train(epoch=3, log_step=100):\n",
    "    global_step = 0\n",
    "    for ep in range(epoch):\n",
    "        model.train()\n",
    "        for batch in train_loader:\n",
    "            if torch.cuda.is_available():\n",
    "                batch = {k: v.cuda() for k, v in batch.items()}\n",
    "            optimizer.zero_grad()\n",
    "            output = model(**batch)\n",
    "            output.loss.backward()\n",
    "            optimizer.step()\n",
    "            if global_step == 0 or global_step % log_step == 0:\n",
    "                print(f\"ep: {ep}, Step {global_step}: loss = {output.loss.item()}\")\n",
    "            global_step += 1\n",
    "        acc = evaluate()\n",
    "        print(f\"ep: {ep}, Validation Accuracy = {acc}\")"
   ]
  },
  {
   "cell_type": "markdown",
   "id": "50750ba7",
   "metadata": {},
   "source": [
    "## Step 08. Train the model"
   ]
  },
  {
   "cell_type": "code",
   "execution_count": 36,
   "id": "d53aba9a",
   "metadata": {},
   "outputs": [
    {
     "name": "stdout",
     "output_type": "stream",
     "text": [
      "ep: 0, Step 0: loss = 0.7489166855812073\n",
      "ep: 0, Step 100: loss = 0.3359348177909851\n",
      "ep: 0, Validation Accuracy = 0.8795879483222961\n",
      "ep: 1, Step 200: loss = 0.33741503953933716\n",
      "ep: 1, Step 300: loss = 0.2895704507827759\n",
      "ep: 1, Validation Accuracy = 0.8963297009468079\n",
      "ep: 2, Step 400: loss = 0.17358046770095825\n",
      "ep: 2, Step 500: loss = 0.2642514705657959\n",
      "ep: 2, Validation Accuracy = 0.8969736099243164\n",
      "ep: 3, Step 600: loss = 0.41686078906059265\n",
      "ep: 3, Step 700: loss = 0.2410842776298523\n",
      "ep: 3, Validation Accuracy = 0.8873149156570435\n",
      "ep: 4, Step 800: loss = 0.06928562372922897\n",
      "ep: 4, Step 900: loss = 0.16453737020492554\n",
      "ep: 4, Validation Accuracy = 0.8905344605445862\n",
      "ep: 5, Step 1000: loss = 0.02317120134830475\n",
      "ep: 5, Step 1100: loss = 0.11493042856454849\n",
      "ep: 5, Validation Accuracy = 0.8873149156570435\n",
      "ep: 6, Step 1200: loss = 0.01408088207244873\n",
      "ep: 6, Step 1300: loss = 0.05626334622502327\n",
      "ep: 6, Validation Accuracy = 0.891822338104248\n",
      "ep: 7, Step 1400: loss = 0.14026986062526703\n",
      "ep: 7, Step 1500: loss = 0.012240533716976643\n",
      "ep: 7, Validation Accuracy = 0.887958824634552\n",
      "ep: 8, Step 1600: loss = 0.0038451135624200106\n",
      "ep: 8, Step 1700: loss = 0.005695773754268885\n",
      "ep: 8, Validation Accuracy = 0.8924662470817566\n",
      "ep: 9, Step 1800: loss = 0.00048166210763156414\n",
      "ep: 9, Step 1900: loss = 0.02447843737900257\n",
      "ep: 9, Validation Accuracy = 0.8898905515670776\n"
     ]
    }
   ],
   "source": [
    "train(epoch=10, log_step=100)"
   ]
  },
  {
   "cell_type": "markdown",
   "id": "a72d5586",
   "metadata": {},
   "source": [
    "## Step 09. Model prediction"
   ]
  },
  {
   "cell_type": "code",
   "execution_count": 43,
   "id": "3026f0f8",
   "metadata": {},
   "outputs": [
    {
     "name": "stdout",
     "output_type": "stream",
     "text": [
      "Input: I Think this hotel is good!\n",
      "Model Prediction: good\n"
     ]
    }
   ],
   "source": [
    "sentence = \"I Think this hotel is good!\"\n",
    "# sentence = \"I think this hotel is terrible...\"\n",
    "id2label = {0: 'bad', 1: 'good'}\n",
    "model.eval()\n",
    "with torch.inference_mode():\n",
    "    inputs = tokenizer(sentence, max_length=128, padding='max_length', truncation=True, return_tensors='pt')\n",
    "    inputs = {k: v.cuda() for k, v in inputs.items()}\n",
    "    logits = model(**inputs).logits\n",
    "    pred = torch.argmax(logits, dim=-1)\n",
    "    print(f\"Input: {sentence}\\nModel Prediction: {id2label.get(pred.item())}\")"
   ]
  },
  {
   "cell_type": "code",
   "execution_count": 46,
   "id": "42d6d631",
   "metadata": {},
   "outputs": [
    {
     "name": "stderr",
     "output_type": "stream",
     "text": [
      "Device set to use cuda:0\n"
     ]
    }
   ],
   "source": [
    "from transformers import pipeline\n",
    "\n",
    "model.config.id2label = id2label\n",
    "pipe = pipeline('text-classification', model=model, tokenizer=tokenizer)"
   ]
  },
  {
   "cell_type": "code",
   "execution_count": 47,
   "id": "be5a0dab",
   "metadata": {},
   "outputs": [
    {
     "data": {
      "text/plain": [
       "[{'label': 'good', 'score': 0.7181729674339294}]"
      ]
     },
     "execution_count": 47,
     "metadata": {},
     "output_type": "execute_result"
    }
   ],
   "source": [
    "pipe(sentence)"
   ]
  }
 ],
 "metadata": {
  "kernelspec": {
   "display_name": ".venv",
   "language": "python",
   "name": "python3"
  },
  "language_info": {
   "codemirror_mode": {
    "name": "ipython",
    "version": 3
   },
   "file_extension": ".py",
   "mimetype": "text/x-python",
   "name": "python",
   "nbconvert_exporter": "python",
   "pygments_lexer": "ipython3",
   "version": "3.12.11"
  }
 },
 "nbformat": 4,
 "nbformat_minor": 5
}
