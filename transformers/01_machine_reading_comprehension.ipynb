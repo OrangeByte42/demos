{
 "cells": [
  {
   "cell_type": "markdown",
   "id": "7208e077",
   "metadata": {},
   "source": [
    "# Machine Reading Comprehension (MRC)"
   ]
  },
  {
   "cell_type": "code",
   "execution_count": null,
   "id": "6b91a701",
   "metadata": {},
   "outputs": [],
   "source": []
  }
 ],
 "metadata": {
  "kernelspec": {
   "display_name": ".venv",
   "language": "python",
   "name": "python3"
  },
  "language_info": {
   "name": "python",
   "version": "3.12.11"
  }
 },
 "nbformat": 4,
 "nbformat_minor": 5
}
