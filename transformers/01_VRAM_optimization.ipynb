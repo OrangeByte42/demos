{
 "cells": [
  {
   "cell_type": "code",
   "execution_count": null,
   "id": "abbd6f08",
   "metadata": {},
   "outputs": [],
   "source": [
    "%env ALL_PROXY=http://127.0.0.1:7890\n",
    "%env HTTP_PROXY=http://127.0.0.1:7890\n",
    "%env HTTPS_PROXY=http://127.0.0.1:7890"
   ]
  },
  {
   "cell_type": "code",
   "execution_count": null,
   "id": "12287988",
   "metadata": {},
   "outputs": [],
   "source": [
    "%env HF_HUB_CACHE=./data/hf_cache"
   ]
  },
  {
   "cell_type": "markdown",
   "id": "f0027184",
   "metadata": {},
   "source": [
    "# Text classification example"
   ]
  },
  {
   "cell_type": "markdown",
   "id": "ea7dfeee",
   "metadata": {},
   "source": [
    "## Step 01. import related packages"
   ]
  },
  {
   "cell_type": "code",
   "execution_count": null,
   "id": "cd1148cc",
   "metadata": {},
   "outputs": [],
   "source": [
    "from transformers import AutoTokenizer, AutoModelForSequenceClassification\n",
    "from datasets import load_dataset\n",
    "from transformers import TrainingArguments, Trainer"
   ]
  },
  {
   "cell_type": "markdown",
   "id": "cd1884fb",
   "metadata": {},
   "source": [
    "## Step 02. Load data"
   ]
  },
  {
   "cell_type": "code",
   "execution_count": null,
   "id": "1f89c7da",
   "metadata": {},
   "outputs": [],
   "source": [
    "dataset = load_dataset('csv', data_files='./data/train/ChnSentiCorp_htl_all.csv', split='train')\n",
    "dataset = dataset.filter(lambda x: x['review'] is not None)\n",
    "dataset"
   ]
  },
  {
   "cell_type": "markdown",
   "id": "6df95989",
   "metadata": {},
   "source": [
    "## Step 03. Split dataset"
   ]
  },
  {
   "cell_type": "code",
   "execution_count": null,
   "id": "fb9d1932",
   "metadata": {},
   "outputs": [],
   "source": [
    "splited_ds_dict = dataset.train_test_split(test_size=0.2)\n",
    "splited_ds_dict"
   ]
  },
  {
   "cell_type": "markdown",
   "id": "47f7cf51",
   "metadata": {},
   "source": [
    "## Step 04. Pre-process Data"
   ]
  },
  {
   "cell_type": "code",
   "execution_count": null,
   "id": "dbc747c6",
   "metadata": {},
   "outputs": [],
   "source": [
    "import torch\n",
    "\n",
    "tokenizer = AutoTokenizer.from_pretrained('hfl/chinese-macbert-large')\n",
    "\n",
    "def process_function(examples):\n",
    "    tokenized_examples = tokenizer(examples['review'], max_length=32, padding='max_length', truncation=True)\n",
    "    tokenized_examples['labels'] = examples['label']\n",
    "    return tokenized_examples\n",
    "\n",
    "tokenized_ds = splited_ds_dict.map(process_function, batched=True, remove_columns=splited_ds_dict['train'].column_names)\n",
    "tokenized_ds"
   ]
  },
  {
   "cell_type": "markdown",
   "id": "ca68d4c7",
   "metadata": {},
   "source": [
    "## Step 05. Create the model"
   ]
  },
  {
   "cell_type": "code",
   "execution_count": null,
   "id": "f02f42e1",
   "metadata": {},
   "outputs": [],
   "source": [
    "from torch.optim import Adam\n",
    "\n",
    "model = AutoModelForSequenceClassification.from_pretrained('hfl/chinese-macbert-large')"
   ]
  },
  {
   "cell_type": "markdown",
   "id": "e8d8c452",
   "metadata": {},
   "source": [
    "## Step 06. Create evaluation func"
   ]
  },
  {
   "cell_type": "code",
   "execution_count": null,
   "id": "4baa9d4b",
   "metadata": {},
   "outputs": [],
   "source": [
    "import evaluate\n",
    "\n",
    "acc_metric = evaluate.load('accuracy')\n",
    "f1_metric = evaluate.load('f1')"
   ]
  },
  {
   "cell_type": "code",
   "execution_count": null,
   "id": "08b2cbd1",
   "metadata": {},
   "outputs": [],
   "source": [
    "def eval_metrics(eval_preds):\n",
    "    preds, labels = eval_preds\n",
    "    preds = preds.argmax(axis=1)\n",
    "    acc = acc_metric.compute(predictions=preds, references=labels)\n",
    "    f1 = f1_metric.compute(predictions=preds, references=labels, average='macro')\n",
    "    acc.update(f1)\n",
    "    return acc"
   ]
  },
  {
   "cell_type": "markdown",
   "id": "e14eb70c",
   "metadata": {},
   "source": [
    "## Step 07. Create the trainer"
   ]
  },
  {
   "cell_type": "code",
   "execution_count": null,
   "id": "91fdc508",
   "metadata": {},
   "outputs": [],
   "source": [
    "train_args = TrainingArguments(output_dir=\"./outs/checkpoints\",      # 输出文件夹\n",
    "                                per_device_train_batch_size=1,   # 训练时的batch_size\n",
    "                                gradient_accumulation_steps=32,  # *** 梯度累加 ***\n",
    "                                gradient_checkpointing=True,     # *** 梯度检查点 ***\n",
    "                                optim=\"adafactor\",               # *** adafactor优化器 *** \n",
    "                                per_device_eval_batch_size=1,    # 验证时的batch_size\n",
    "                                num_train_epochs=1,              # 训练轮数\n",
    "                                logging_steps=10,                # log 打印的频率\n",
    "                                eval_strategy=\"epoch\",     # 评估策略\n",
    "                                save_strategy=\"epoch\",           # 保存策略\n",
    "                                save_total_limit=3,              # 最大保存数\n",
    "                                learning_rate=2e-5,              # 学习率\n",
    "                                weight_decay=0.01,               # weight_decay\n",
    "                                metric_for_best_model=\"f1\",      # 设定评估指标\n",
    "                                load_best_model_at_end=True)     # 训练完成后加载最优模型\n",
    "\n",
    "train_args"
   ]
  },
  {
   "cell_type": "code",
   "execution_count": null,
   "id": "b8f2a4bf",
   "metadata": {},
   "outputs": [],
   "source": [
    "from transformers import DataCollatorWithPadding\n",
    "\n",
    "for name, param in model.bert.named_parameters():\n",
    "    param.requires_grad = False\n",
    "\n",
    "trainer = Trainer(\n",
    "    args=train_args,\n",
    "    train_dataset=tokenized_ds['train'],\n",
    "    eval_dataset=tokenized_ds['test'],\n",
    "    data_collator=DataCollatorWithPadding(tokenizer=tokenizer),\n",
    "    model=model,\n",
    "    compute_metrics=eval_metrics\n",
    ")"
   ]
  },
  {
   "cell_type": "markdown",
   "id": "50750ba7",
   "metadata": {},
   "source": [
    "## Step 08. Train the model"
   ]
  },
  {
   "cell_type": "code",
   "execution_count": null,
   "id": "d53aba9a",
   "metadata": {},
   "outputs": [],
   "source": [
    "trainer.train()"
   ]
  },
  {
   "cell_type": "markdown",
   "id": "3f22119a",
   "metadata": {},
   "source": [
    "# Step 10. Trainer Evaluation"
   ]
  },
  {
   "cell_type": "code",
   "execution_count": null,
   "id": "6f2de256",
   "metadata": {},
   "outputs": [],
   "source": [
    "trainer.evaluate()"
   ]
  },
  {
   "cell_type": "code",
   "execution_count": null,
   "id": "677954b3",
   "metadata": {},
   "outputs": [],
   "source": [
    "trainer.evaluate(tokenized_ds['train'])"
   ]
  },
  {
   "cell_type": "code",
   "execution_count": null,
   "id": "914e7057",
   "metadata": {},
   "outputs": [],
   "source": [
    "trainer.evaluate(tokenized_ds['test'])"
   ]
  },
  {
   "cell_type": "markdown",
   "id": "a72d5586",
   "metadata": {},
   "source": [
    "## Step 11. Model prediction"
   ]
  },
  {
   "cell_type": "code",
   "execution_count": null,
   "id": "1745a7ad",
   "metadata": {},
   "outputs": [],
   "source": [
    "trainer.predict(tokenized_ds['test'])"
   ]
  },
  {
   "cell_type": "markdown",
   "id": "7cdb9171",
   "metadata": {},
   "source": [
    "# Other : tensorboard show training trace"
   ]
  },
  {
   "cell_type": "code",
   "execution_count": null,
   "id": "9606c39d",
   "metadata": {},
   "outputs": [],
   "source": [
    "!tensorboard --logdir ./outs/checkpoints/runs/"
   ]
  },
  {
   "cell_type": "code",
   "execution_count": null,
   "id": "7bda6dd7",
   "metadata": {},
   "outputs": [],
   "source": [
    "# Also, can use the extension in VS Code (By 'Ctrl + Shift + P', search 'tensorboard')"
   ]
  }
 ],
 "metadata": {
  "kernelspec": {
   "display_name": ".venv",
   "language": "python",
   "name": "python3"
  },
  "language_info": {
   "codemirror_mode": {
    "name": "ipython",
    "version": 3
   },
   "file_extension": ".py",
   "mimetype": "text/x-python",
   "name": "python",
   "nbconvert_exporter": "python",
   "pygments_lexer": "ipython3",
   "version": "3.12.11"
  }
 },
 "nbformat": 4,
 "nbformat_minor": 5
}
