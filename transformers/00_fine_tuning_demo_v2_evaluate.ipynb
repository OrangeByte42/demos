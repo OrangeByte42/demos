{
 "cells": [
  {
   "cell_type": "code",
   "execution_count": 1,
   "id": "abbd6f08",
   "metadata": {},
   "outputs": [
    {
     "name": "stdout",
     "output_type": "stream",
     "text": [
      "env: ALL_PROXY=http://127.0.0.1:7890\n",
      "env: HTTP_PROXY=http://127.0.0.1:7890\n",
      "env: HTTPS_PROXY=http://127.0.0.1:7890\n"
     ]
    }
   ],
   "source": [
    "%env ALL_PROXY=http://127.0.0.1:7890\n",
    "%env HTTP_PROXY=http://127.0.0.1:7890\n",
    "%env HTTPS_PROXY=http://127.0.0.1:7890"
   ]
  },
  {
   "cell_type": "code",
   "execution_count": 2,
   "id": "12287988",
   "metadata": {},
   "outputs": [
    {
     "name": "stdout",
     "output_type": "stream",
     "text": [
      "env: HF_HUB_CACHE=./data/hf_cache\n"
     ]
    }
   ],
   "source": [
    "%env HF_HUB_CACHE=./data/hf_cache"
   ]
  },
  {
   "cell_type": "markdown",
   "id": "f0027184",
   "metadata": {},
   "source": [
    "# Text classification example"
   ]
  },
  {
   "cell_type": "markdown",
   "id": "ea7dfeee",
   "metadata": {},
   "source": [
    "## Step 01. import related packages"
   ]
  },
  {
   "cell_type": "code",
   "execution_count": 3,
   "id": "cd1148cc",
   "metadata": {},
   "outputs": [
    {
     "name": "stderr",
     "output_type": "stream",
     "text": [
      "/home/ubuntu/MyFiles/GitHub/demos/transformers/.venv/lib/python3.12/site-packages/tqdm/auto.py:21: TqdmWarning: IProgress not found. Please update jupyter and ipywidgets. See https://ipywidgets.readthedocs.io/en/stable/user_install.html\n",
      "  from .autonotebook import tqdm as notebook_tqdm\n"
     ]
    }
   ],
   "source": [
    "from transformers import AutoTokenizer, AutoModelForSequenceClassification\n",
    "from datasets import load_dataset"
   ]
  },
  {
   "cell_type": "markdown",
   "id": "cd1884fb",
   "metadata": {},
   "source": [
    "## Step 02. Load data"
   ]
  },
  {
   "cell_type": "code",
   "execution_count": 4,
   "id": "1f89c7da",
   "metadata": {},
   "outputs": [
    {
     "data": {
      "text/plain": [
       "Dataset({\n",
       "    features: ['label', 'review'],\n",
       "    num_rows: 7765\n",
       "})"
      ]
     },
     "execution_count": 4,
     "metadata": {},
     "output_type": "execute_result"
    }
   ],
   "source": [
    "dataset = load_dataset('csv', data_files='./data/train/ChnSentiCorp_htl_all.csv', split='train')\n",
    "dataset = dataset.filter(lambda x: x['review'] is not None)\n",
    "dataset"
   ]
  },
  {
   "cell_type": "markdown",
   "id": "6df95989",
   "metadata": {},
   "source": [
    "## Step 03. Split dataset"
   ]
  },
  {
   "cell_type": "code",
   "execution_count": 5,
   "id": "fb9d1932",
   "metadata": {},
   "outputs": [
    {
     "data": {
      "text/plain": [
       "DatasetDict({\n",
       "    train: Dataset({\n",
       "        features: ['label', 'review'],\n",
       "        num_rows: 6212\n",
       "    })\n",
       "    test: Dataset({\n",
       "        features: ['label', 'review'],\n",
       "        num_rows: 1553\n",
       "    })\n",
       "})"
      ]
     },
     "execution_count": 5,
     "metadata": {},
     "output_type": "execute_result"
    }
   ],
   "source": [
    "splited_ds_dict = dataset.train_test_split(test_size=0.2)\n",
    "splited_ds_dict"
   ]
  },
  {
   "cell_type": "markdown",
   "id": "47f7cf51",
   "metadata": {},
   "source": [
    "## Step 04. Create Dataloaders"
   ]
  },
  {
   "cell_type": "code",
   "execution_count": 6,
   "id": "dbc747c6",
   "metadata": {},
   "outputs": [
    {
     "name": "stderr",
     "output_type": "stream",
     "text": [
      "Map: 100%|██████████| 6212/6212 [00:00<00:00, 7288.59 examples/s]\n",
      "Map: 100%|██████████| 1553/1553 [00:00<00:00, 9887.15 examples/s] \n"
     ]
    },
    {
     "data": {
      "text/plain": [
       "DatasetDict({\n",
       "    train: Dataset({\n",
       "        features: ['input_ids', 'token_type_ids', 'attention_mask', 'labels'],\n",
       "        num_rows: 6212\n",
       "    })\n",
       "    test: Dataset({\n",
       "        features: ['input_ids', 'token_type_ids', 'attention_mask', 'labels'],\n",
       "        num_rows: 1553\n",
       "    })\n",
       "})"
      ]
     },
     "execution_count": 6,
     "metadata": {},
     "output_type": "execute_result"
    }
   ],
   "source": [
    "import torch\n",
    "\n",
    "tokenizer = AutoTokenizer.from_pretrained('hfl/rbt3')\n",
    "\n",
    "def process_function(examples):\n",
    "    tokenized_examples = tokenizer(examples['review'], max_length=128, truncation=True)\n",
    "    tokenized_examples['labels'] = examples['label']\n",
    "    return tokenized_examples\n",
    "\n",
    "tokenized_ds = splited_ds_dict.map(process_function, batched=True, remove_columns=splited_ds_dict['train'].column_names)\n",
    "tokenized_ds"
   ]
  },
  {
   "cell_type": "code",
   "execution_count": 7,
   "id": "12fb6b22",
   "metadata": {},
   "outputs": [],
   "source": [
    "from torch.utils.data import DataLoader\n",
    "from transformers import DataCollatorWithPadding\n",
    "\n",
    "train_set, valid_set = tokenized_ds['train'], tokenized_ds['test']\n",
    "train_loader = DataLoader(train_set, batch_size=32, shuffle=True, collate_fn=DataCollatorWithPadding(tokenizer))\n",
    "valid_loader = DataLoader(valid_set, batch_size=32, shuffle=False, collate_fn=DataCollatorWithPadding(tokenizer))"
   ]
  },
  {
   "cell_type": "code",
   "execution_count": 8,
   "id": "6b3f4ef8",
   "metadata": {},
   "outputs": [
    {
     "data": {
      "text/plain": [
       "{'input_ids': tensor([[ 101, 6983, 2421,  ..., 6586, 4638,  102],\n",
       "        [ 101, 2791, 7313,  ...,    0,    0,    0],\n",
       "        [ 101,  868,  711,  ..., 3121, 6822,  102],\n",
       "        ...,\n",
       "        [ 101, 7674, 1044,  ..., 7716, 3446,  102],\n",
       "        [ 101, 2487, 4164,  ..., 1456, 7309,  102],\n",
       "        [ 101, 5811, 3805,  ...,    0,    0,    0]]), 'token_type_ids': tensor([[0, 0, 0,  ..., 0, 0, 0],\n",
       "        [0, 0, 0,  ..., 0, 0, 0],\n",
       "        [0, 0, 0,  ..., 0, 0, 0],\n",
       "        ...,\n",
       "        [0, 0, 0,  ..., 0, 0, 0],\n",
       "        [0, 0, 0,  ..., 0, 0, 0],\n",
       "        [0, 0, 0,  ..., 0, 0, 0]]), 'attention_mask': tensor([[1, 1, 1,  ..., 1, 1, 1],\n",
       "        [1, 1, 1,  ..., 0, 0, 0],\n",
       "        [1, 1, 1,  ..., 1, 1, 1],\n",
       "        ...,\n",
       "        [1, 1, 1,  ..., 1, 1, 1],\n",
       "        [1, 1, 1,  ..., 1, 1, 1],\n",
       "        [1, 1, 1,  ..., 0, 0, 0]]), 'labels': tensor([1, 1, 1, 0, 1, 1, 1, 0, 1, 1, 1, 1, 0, 1, 1, 1, 1, 1, 0, 1, 1, 1, 1, 1,\n",
       "        1, 1, 1, 1, 1, 1, 0, 0])}"
      ]
     },
     "execution_count": 8,
     "metadata": {},
     "output_type": "execute_result"
    }
   ],
   "source": [
    "next(enumerate(valid_loader))[1]"
   ]
  },
  {
   "cell_type": "markdown",
   "id": "ca68d4c7",
   "metadata": {},
   "source": [
    "## Step 05. Create the model & optimizer"
   ]
  },
  {
   "cell_type": "code",
   "execution_count": 9,
   "id": "f02f42e1",
   "metadata": {},
   "outputs": [
    {
     "name": "stderr",
     "output_type": "stream",
     "text": [
      "Some weights of BertForSequenceClassification were not initialized from the model checkpoint at hfl/rbt3 and are newly initialized: ['classifier.bias', 'classifier.weight']\n",
      "You should probably TRAIN this model on a down-stream task to be able to use it for predictions and inference.\n"
     ]
    }
   ],
   "source": [
    "from torch.optim import Adam\n",
    "\n",
    "model = AutoModelForSequenceClassification.from_pretrained('hfl/rbt3')\n",
    "\n",
    "if torch.cuda.is_available():\n",
    "    model = model.cuda()"
   ]
  },
  {
   "cell_type": "code",
   "execution_count": 10,
   "id": "7349dacb",
   "metadata": {},
   "outputs": [],
   "source": [
    "optimizer = Adam(model.parameters(), lr=2e-5)"
   ]
  },
  {
   "cell_type": "markdown",
   "id": "e14eb70c",
   "metadata": {},
   "source": [
    "## Step 07. Train and validate"
   ]
  },
  {
   "cell_type": "code",
   "execution_count": 11,
   "id": "91fdc508",
   "metadata": {},
   "outputs": [],
   "source": [
    "import evaluate\n",
    "\n",
    "clf_metrics = evaluate.combine(['accuracy', 'f1'])"
   ]
  },
  {
   "cell_type": "code",
   "execution_count": 12,
   "id": "428729c5",
   "metadata": {},
   "outputs": [],
   "source": [
    "def evaluate():\n",
    "    model.eval()\n",
    "    # acc_num = 0\n",
    "    with torch.inference_mode():\n",
    "        for batch in valid_loader:\n",
    "            if torch.cuda.is_available():\n",
    "                batch = {k: v.cuda() for k, v in batch.items()}\n",
    "            output = model(**batch)\n",
    "            pred = torch.argmax(output.logits, dim=-1)\n",
    "            # acc_num += (pred.long() == batch['labels'].long()).float().sum()\n",
    "            clf_metrics.add_batch(predictions=pred.long(), references=batch['labels'].long())\n",
    "    return clf_metrics.compute()\n",
    "\n",
    "\n",
    "def train(epoch=3, log_step=100):\n",
    "    global_step = 0\n",
    "    for ep in range(epoch):\n",
    "        model.train()\n",
    "        for batch in train_loader:\n",
    "            if torch.cuda.is_available():\n",
    "                batch = {k: v.cuda() for k, v in batch.items()}\n",
    "            optimizer.zero_grad()\n",
    "            output = model(**batch)\n",
    "            output.loss.backward()\n",
    "            optimizer.step()\n",
    "            if global_step == 0 or global_step % log_step == 0:\n",
    "                print(f\"ep: {ep}, Step {global_step}: loss = {output.loss.item()}\")\n",
    "            global_step += 1\n",
    "        clf = evaluate()\n",
    "        print(f\"ep: {ep}, {clf}\")"
   ]
  },
  {
   "cell_type": "markdown",
   "id": "50750ba7",
   "metadata": {},
   "source": [
    "## Step 08. Train the model"
   ]
  },
  {
   "cell_type": "code",
   "execution_count": 13,
   "id": "d53aba9a",
   "metadata": {},
   "outputs": [
    {
     "name": "stdout",
     "output_type": "stream",
     "text": [
      "ep: 0, Step 0: loss = 0.9596479535102844\n",
      "ep: 0, Step 100: loss = 0.42726534605026245\n",
      "ep: 0, {'accuracy': 0.8834513844172569, 'f1': 0.9114914425427872}\n",
      "ep: 1, Step 200: loss = 0.38055431842803955\n",
      "ep: 1, Step 300: loss = 0.21395260095596313\n",
      "ep: 1, {'accuracy': 0.8950418544752092, 'f1': 0.9226388229710489}\n",
      "ep: 2, Step 400: loss = 0.12374890595674515\n",
      "ep: 2, Step 500: loss = 0.16590812802314758\n",
      "ep: 2, {'accuracy': 0.8860270444301352, 'f1': 0.9193621867881548}\n"
     ]
    }
   ],
   "source": [
    "train(epoch=3, log_step=100)"
   ]
  },
  {
   "cell_type": "markdown",
   "id": "a72d5586",
   "metadata": {},
   "source": [
    "## Step 09. Model prediction"
   ]
  },
  {
   "cell_type": "code",
   "execution_count": 14,
   "id": "3026f0f8",
   "metadata": {},
   "outputs": [
    {
     "name": "stdout",
     "output_type": "stream",
     "text": [
      "Input: 这个酒店好！！\n",
      "Model Prediction: good\n"
     ]
    }
   ],
   "source": [
    "# sentence = \"I Think this hotel is good!\"\n",
    "# sentence = \"I think this hotel is terrible...\"\n",
    "sentence = \"这个酒店好！！\"\n",
    "id2label = {0: 'bad', 1: 'good'}\n",
    "model.eval()\n",
    "with torch.inference_mode():\n",
    "    inputs = tokenizer(sentence, max_length=128, padding='max_length', truncation=True, return_tensors='pt')\n",
    "    inputs = {k: v.cuda() for k, v in inputs.items()}\n",
    "    logits = model(**inputs).logits\n",
    "    pred = torch.argmax(logits, dim=-1)\n",
    "    print(f\"Input: {sentence}\\nModel Prediction: {id2label.get(pred.item())}\")"
   ]
  },
  {
   "cell_type": "code",
   "execution_count": 15,
   "id": "42d6d631",
   "metadata": {},
   "outputs": [
    {
     "name": "stderr",
     "output_type": "stream",
     "text": [
      "Device set to use cuda:0\n"
     ]
    }
   ],
   "source": [
    "from transformers import pipeline\n",
    "\n",
    "model.config.id2label = id2label\n",
    "pipe = pipeline('text-classification', model=model, tokenizer=tokenizer)"
   ]
  },
  {
   "cell_type": "code",
   "execution_count": 16,
   "id": "be5a0dab",
   "metadata": {},
   "outputs": [
    {
     "data": {
      "text/plain": [
       "[{'label': 'good', 'score': 0.8459985852241516}]"
      ]
     },
     "execution_count": 16,
     "metadata": {},
     "output_type": "execute_result"
    }
   ],
   "source": [
    "pipe(sentence)"
   ]
  }
 ],
 "metadata": {
  "kernelspec": {
   "display_name": ".venv",
   "language": "python",
   "name": "python3"
  },
  "language_info": {
   "codemirror_mode": {
    "name": "ipython",
    "version": 3
   },
   "file_extension": ".py",
   "mimetype": "text/x-python",
   "name": "python",
   "nbconvert_exporter": "python",
   "pygments_lexer": "ipython3",
   "version": "3.12.11"
  }
 },
 "nbformat": 4,
 "nbformat_minor": 5
}
